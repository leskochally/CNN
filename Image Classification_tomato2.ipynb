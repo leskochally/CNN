{
 "cells": [
  {
   "cell_type": "code",
   "execution_count": 1,
   "metadata": {},
   "outputs": [],
   "source": [
    "# Convolutional Neural Network\n",
    "\n",
    "# Importing the libraries\n",
    "import tensorflow as tf\n",
    "from tensorflow.keras.preprocessing.image import ImageDataGenerator"
   ]
  },
  {
   "cell_type": "code",
   "execution_count": 2,
   "metadata": {},
   "outputs": [
    {
     "name": "stdout",
     "output_type": "stream",
     "text": [
      "Found 10000 images belonging to 10 classes.\n",
      "Found 1000 images belonging to 10 classes.\n"
     ]
    }
   ],
   "source": [
    "# Part 1 - Data Preprocessing\n",
    "\n",
    "# Preprocessing the Training set\n",
    "train_datagen = ImageDataGenerator(rescale = 1./255,\n",
    "                                   shear_range = 0.2,\n",
    "                                   zoom_range = 0.2,\n",
    "                                   horizontal_flip = True)\n",
    "training_set = train_datagen.flow_from_directory('tomato/train',\n",
    "                                                 target_size = (64, 64),\n",
    "                                                 batch_size = 32,\n",
    "                                                 class_mode = 'categorical')\n",
    "\n",
    "# Preprocessing the Test set\n",
    "test_datagen = ImageDataGenerator(rescale = 1./255)\n",
    "test_set = test_datagen.flow_from_directory('tomato/val',\n",
    "                                            target_size = (64, 64),\n",
    "                                            batch_size = 32,\n",
    "                                            class_mode = 'categorical')"
   ]
  },
  {
   "cell_type": "code",
   "execution_count": 3,
   "metadata": {},
   "outputs": [],
   "source": [
    "# Part 2 - Building the CNN\n",
    "\n",
    "# Initialising the CNN\n",
    "cnn = tf.keras.models.Sequential()\n",
    "\n",
    "# Step 1 - Convolution\n",
    "cnn.add(tf.keras.layers.Conv2D(filters=32, kernel_size=3, activation='relu', input_shape=[64, 64, 3]))\n",
    "\n",
    "# Step 2 - Pooling\n",
    "cnn.add(tf.keras.layers.MaxPool2D(pool_size=2, strides=2))\n",
    "\n",
    "# Adding a second convolutional layer\n",
    "cnn.add(tf.keras.layers.Conv2D(filters=32, kernel_size=3, activation='relu'))\n",
    "cnn.add(tf.keras.layers.MaxPool2D(pool_size=2, strides=2))\n",
    "\n",
    "# Step 3 - Flattening\n",
    "cnn.add(tf.keras.layers.Flatten())\n",
    "\n",
    "# Step 4 - Full Connection\n",
    "cnn.add(tf.keras.layers.Dense(units=128, activation='relu'))\n",
    "\n",
    "# Step 5 - Output Layer\n",
    "cnn.add(tf.keras.layers.Dense(units=10, activation='softmax'))"
   ]
  },
  {
   "cell_type": "code",
   "execution_count": 4,
   "metadata": {},
   "outputs": [
    {
     "name": "stdout",
     "output_type": "stream",
     "text": [
      "Model: \"sequential\"\n",
      "_________________________________________________________________\n",
      "Layer (type)                 Output Shape              Param #   \n",
      "=================================================================\n",
      "conv2d (Conv2D)              (None, 62, 62, 32)        896       \n",
      "_________________________________________________________________\n",
      "max_pooling2d (MaxPooling2D) (None, 31, 31, 32)        0         \n",
      "_________________________________________________________________\n",
      "conv2d_1 (Conv2D)            (None, 29, 29, 32)        9248      \n",
      "_________________________________________________________________\n",
      "max_pooling2d_1 (MaxPooling2 (None, 14, 14, 32)        0         \n",
      "_________________________________________________________________\n",
      "flatten (Flatten)            (None, 6272)              0         \n",
      "_________________________________________________________________\n",
      "dense (Dense)                (None, 128)               802944    \n",
      "_________________________________________________________________\n",
      "dense_1 (Dense)              (None, 10)                1290      \n",
      "=================================================================\n",
      "Total params: 814,378\n",
      "Trainable params: 814,378\n",
      "Non-trainable params: 0\n",
      "_________________________________________________________________\n"
     ]
    }
   ],
   "source": [
    "cnn.summary()"
   ]
  },
  {
   "cell_type": "code",
   "execution_count": 5,
   "metadata": {},
   "outputs": [
    {
     "name": "stdout",
     "output_type": "stream",
     "text": [
      "WARNING:tensorflow:sample_weight modes were coerced from\n",
      "  ...\n",
      "    to  \n",
      "  ['...']\n",
      "WARNING:tensorflow:sample_weight modes were coerced from\n",
      "  ...\n",
      "    to  \n",
      "  ['...']\n",
      "Train for 313 steps, validate for 32 steps\n",
      "Epoch 1/25\n",
      "313/313 [==============================] - 225s 718ms/step - loss: 1.3232 - accuracy: 0.5385 - val_loss: 0.9345 - val_accuracy: 0.6510\n",
      "Epoch 2/25\n",
      "313/313 [==============================] - 57s 183ms/step - loss: 0.7368 - accuracy: 0.7472 - val_loss: 0.6126 - val_accuracy: 0.7910\n",
      "Epoch 3/25\n",
      "313/313 [==============================] - 57s 183ms/step - loss: 0.5777 - accuracy: 0.7977 - val_loss: 0.7120 - val_accuracy: 0.7600\n",
      "Epoch 4/25\n",
      "313/313 [==============================] - 56s 179ms/step - loss: 0.4977 - accuracy: 0.8304 - val_loss: 0.7577 - val_accuracy: 0.7450\n",
      "Epoch 5/25\n",
      "313/313 [==============================] - 56s 180ms/step - loss: 0.4077 - accuracy: 0.8611 - val_loss: 0.5743 - val_accuracy: 0.8260\n",
      "Epoch 6/25\n",
      "313/313 [==============================] - 54s 172ms/step - loss: 0.3700 - accuracy: 0.8708 - val_loss: 0.6223 - val_accuracy: 0.7980\n",
      "Epoch 7/25\n",
      "313/313 [==============================] - 57s 181ms/step - loss: 0.3335 - accuracy: 0.8871 - val_loss: 0.8911 - val_accuracy: 0.7340\n",
      "Epoch 8/25\n",
      "313/313 [==============================] - 55s 176ms/step - loss: 0.2843 - accuracy: 0.9018 - val_loss: 0.3943 - val_accuracy: 0.8750\n",
      "Epoch 9/25\n",
      "313/313 [==============================] - 55s 174ms/step - loss: 0.2768 - accuracy: 0.9038 - val_loss: 0.6419 - val_accuracy: 0.8000\n",
      "Epoch 10/25\n",
      "313/313 [==============================] - 54s 172ms/step - loss: 0.2612 - accuracy: 0.9077 - val_loss: 0.6590 - val_accuracy: 0.7990\n",
      "Epoch 11/25\n",
      "313/313 [==============================] - 56s 177ms/step - loss: 0.2320 - accuracy: 0.9188 - val_loss: 0.4440 - val_accuracy: 0.8690\n",
      "Epoch 12/25\n",
      "313/313 [==============================] - 64s 204ms/step - loss: 0.2299 - accuracy: 0.9185 - val_loss: 0.5136 - val_accuracy: 0.8450\n",
      "Epoch 13/25\n",
      "313/313 [==============================] - 57s 184ms/step - loss: 0.2124 - accuracy: 0.9240 - val_loss: 0.3789 - val_accuracy: 0.8800\n",
      "Epoch 14/25\n",
      "313/313 [==============================] - 56s 179ms/step - loss: 0.2029 - accuracy: 0.9281 - val_loss: 0.4131 - val_accuracy: 0.8780\n",
      "Epoch 15/25\n",
      "313/313 [==============================] - 54s 174ms/step - loss: 0.1903 - accuracy: 0.9345 - val_loss: 0.4137 - val_accuracy: 0.8780\n",
      "Epoch 16/25\n",
      "313/313 [==============================] - 54s 173ms/step - loss: 0.1804 - accuracy: 0.9366 - val_loss: 0.3529 - val_accuracy: 0.8960\n",
      "Epoch 17/25\n",
      "313/313 [==============================] - 55s 175ms/step - loss: 0.1710 - accuracy: 0.9407 - val_loss: 0.4222 - val_accuracy: 0.8640\n",
      "Epoch 18/25\n",
      "313/313 [==============================] - 55s 174ms/step - loss: 0.1454 - accuracy: 0.9500 - val_loss: 0.5646 - val_accuracy: 0.8470\n",
      "Epoch 19/25\n",
      "313/313 [==============================] - 53s 171ms/step - loss: 0.1495 - accuracy: 0.9459 - val_loss: 0.3651 - val_accuracy: 0.8980\n",
      "Epoch 20/25\n",
      "313/313 [==============================] - 53s 169ms/step - loss: 0.1361 - accuracy: 0.9529 - val_loss: 0.3539 - val_accuracy: 0.8940\n",
      "Epoch 21/25\n",
      "313/313 [==============================] - 54s 172ms/step - loss: 0.1511 - accuracy: 0.9490 - val_loss: 0.5423 - val_accuracy: 0.8430\n",
      "Epoch 22/25\n",
      "313/313 [==============================] - 68s 217ms/step - loss: 0.1212 - accuracy: 0.9585 - val_loss: 0.3607 - val_accuracy: 0.8960\n",
      "Epoch 23/25\n",
      "313/313 [==============================] - 57s 182ms/step - loss: 0.1179 - accuracy: 0.9572 - val_loss: 0.5358 - val_accuracy: 0.8640\n",
      "Epoch 24/25\n",
      "313/313 [==============================] - 65s 208ms/step - loss: 0.1432 - accuracy: 0.9491 - val_loss: 0.3976 - val_accuracy: 0.8800\n",
      "Epoch 25/25\n",
      "313/313 [==============================] - 56s 178ms/step - loss: 0.1163 - accuracy: 0.9599 - val_loss: 0.3255 - val_accuracy: 0.9050\n"
     ]
    },
    {
     "data": {
      "text/plain": [
       "<tensorflow.python.keras.callbacks.History at 0x2a551008788>"
      ]
     },
     "execution_count": 5,
     "metadata": {},
     "output_type": "execute_result"
    }
   ],
   "source": [
    "# Part 3 - Training the CNN\n",
    "\n",
    "# Compiling the CNN\n",
    "cnn.compile(optimizer = 'adam', loss = 'categorical_crossentropy', metrics = ['accuracy'])\n",
    "\n",
    "# Training the CNN on the Training set and evaluating it on the Test set\n",
    "cnn.fit(x = training_set, validation_data = test_set, epochs = 25)"
   ]
  },
  {
   "cell_type": "code",
   "execution_count": 6,
   "metadata": {},
   "outputs": [],
   "source": [
    "# Part 4 - Making a single prediction\n",
    "\n",
    "import numpy as np\n",
    "from tensorflow.keras.preprocessing import image\n",
    "test_image = image.load_img('tomato/val/Tomato___Early_blight/00c5c908-fc25-4710-a109-db143da23112___RS_Erly.B 7778.jpg', target_size = (64, 64))\n",
    "test_image = image.img_to_array(test_image)\n",
    "test_image=test_image/255\n",
    "test_image = np.expand_dims(test_image, axis = 0)\n",
    "result = cnn.predict(test_image)"
   ]
  },
  {
   "cell_type": "code",
   "execution_count": 7,
   "metadata": {},
   "outputs": [
    {
     "data": {
      "text/plain": [
       "array([[1.5211270e-13, 3.1174177e-01, 3.2032440e-06, 2.2578672e-07,\n",
       "        9.0130005e-04, 4.6461569e-03, 6.8270189e-01, 7.6626350e-07,\n",
       "        1.3497837e-06, 3.3382182e-06]], dtype=float32)"
      ]
     },
     "execution_count": 7,
     "metadata": {},
     "output_type": "execute_result"
    }
   ],
   "source": [
    "result"
   ]
  }
 ],
 "metadata": {
  "kernelspec": {
   "display_name": "Python 3",
   "language": "python",
   "name": "python3"
  },
  "language_info": {
   "codemirror_mode": {
    "name": "ipython",
    "version": 3
   },
   "file_extension": ".py",
   "mimetype": "text/x-python",
   "name": "python",
   "nbconvert_exporter": "python",
   "pygments_lexer": "ipython3",
   "version": "3.7.7"
  }
 },
 "nbformat": 4,
 "nbformat_minor": 4
}
