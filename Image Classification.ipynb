{
 "cells": [
  {
   "cell_type": "code",
   "execution_count": 1,
   "metadata": {},
   "outputs": [],
   "source": [
    "# Convolutional Neural Network\n",
    "\n",
    "# Importing the libraries\n",
    "import tensorflow as tf\n",
    "from tensorflow.keras.preprocessing.image import ImageDataGenerator"
   ]
  },
  {
   "cell_type": "code",
   "execution_count": 2,
   "metadata": {},
   "outputs": [
    {
     "name": "stdout",
     "output_type": "stream",
     "text": [
      "Found 8000 images belonging to 2 classes.\n",
      "Found 2000 images belonging to 2 classes.\n"
     ]
    }
   ],
   "source": [
    "# Part 1 - Data Preprocessing\n",
    "\n",
    "# Preprocessing the Training set\n",
    "train_datagen = ImageDataGenerator(rescale = 1./255,\n",
    "                                   shear_range = 0.2,\n",
    "                                   zoom_range = 0.2,\n",
    "                                   horizontal_flip = True)\n",
    "training_set = train_datagen.flow_from_directory('Datasets/train',\n",
    "                                                 target_size = (64, 64),\n",
    "                                                 batch_size = 32,\n",
    "                                                 class_mode = 'binary')\n",
    "\n",
    "# Preprocessing the Test set\n",
    "test_datagen = ImageDataGenerator(rescale = 1./255)\n",
    "test_set = test_datagen.flow_from_directory('Datasets/test',\n",
    "                                            target_size = (64, 64),\n",
    "                                            batch_size = 32,\n",
    "                                            class_mode = 'binary')"
   ]
  },
  {
   "cell_type": "code",
   "execution_count": 3,
   "metadata": {},
   "outputs": [],
   "source": [
    "# Part 2 - Building the CNN\n",
    "\n",
    "# Initialising the CNN\n",
    "cnn = tf.keras.models.Sequential()\n",
    "\n",
    "# Step 1 - Convolution\n",
    "cnn.add(tf.keras.layers.Conv2D(filters=32, kernel_size=3, activation='relu', input_shape=[64, 64, 3]))\n",
    "\n",
    "# Step 2 - Pooling\n",
    "cnn.add(tf.keras.layers.MaxPool2D(pool_size=2, strides=2))\n",
    "\n",
    "# Adding a second convolutional layer\n",
    "cnn.add(tf.keras.layers.Conv2D(filters=32, kernel_size=3, activation='relu'))\n",
    "cnn.add(tf.keras.layers.MaxPool2D(pool_size=2, strides=2))\n",
    "\n",
    "# Step 3 - Flattening\n",
    "cnn.add(tf.keras.layers.Flatten())\n",
    "\n",
    "# Step 4 - Full Connection\n",
    "cnn.add(tf.keras.layers.Dense(units=128, activation='relu'))\n",
    "\n",
    "# Step 5 - Output Layer\n",
    "cnn.add(tf.keras.layers.Dense(units=1, activation='sigmoid'))"
   ]
  },
  {
   "cell_type": "code",
   "execution_count": 4,
   "metadata": {},
   "outputs": [
    {
     "name": "stdout",
     "output_type": "stream",
     "text": [
      "Model: \"sequential\"\n",
      "_________________________________________________________________\n",
      "Layer (type)                 Output Shape              Param #   \n",
      "=================================================================\n",
      "conv2d (Conv2D)              (None, 62, 62, 32)        896       \n",
      "_________________________________________________________________\n",
      "max_pooling2d (MaxPooling2D) (None, 31, 31, 32)        0         \n",
      "_________________________________________________________________\n",
      "conv2d_1 (Conv2D)            (None, 29, 29, 32)        9248      \n",
      "_________________________________________________________________\n",
      "max_pooling2d_1 (MaxPooling2 (None, 14, 14, 32)        0         \n",
      "_________________________________________________________________\n",
      "flatten (Flatten)            (None, 6272)              0         \n",
      "_________________________________________________________________\n",
      "dense (Dense)                (None, 128)               802944    \n",
      "_________________________________________________________________\n",
      "dense_1 (Dense)              (None, 1)                 129       \n",
      "=================================================================\n",
      "Total params: 813,217\n",
      "Trainable params: 813,217\n",
      "Non-trainable params: 0\n",
      "_________________________________________________________________\n"
     ]
    }
   ],
   "source": [
    "cnn.summary()"
   ]
  },
  {
   "cell_type": "code",
   "execution_count": 5,
   "metadata": {},
   "outputs": [
    {
     "name": "stdout",
     "output_type": "stream",
     "text": [
      "Epoch 1/25\n",
      "250/250 [==============================] - 74s 297ms/step - loss: 0.6835 - accuracy: 0.5495 - val_loss: 0.6288 - val_accuracy: 0.6475\n",
      "Epoch 2/25\n",
      "250/250 [==============================] - 14s 54ms/step - loss: 0.6173 - accuracy: 0.6605 - val_loss: 0.5772 - val_accuracy: 0.7090\n",
      "Epoch 3/25\n",
      "250/250 [==============================] - 14s 54ms/step - loss: 0.5671 - accuracy: 0.7054 - val_loss: 0.5254 - val_accuracy: 0.7375\n",
      "Epoch 4/25\n",
      "250/250 [==============================] - 13s 54ms/step - loss: 0.5331 - accuracy: 0.7346 - val_loss: 0.4976 - val_accuracy: 0.7665\n",
      "Epoch 5/25\n",
      "250/250 [==============================] - 13s 54ms/step - loss: 0.5012 - accuracy: 0.7566 - val_loss: 0.5096 - val_accuracy: 0.7600\n",
      "Epoch 6/25\n",
      "250/250 [==============================] - 14s 54ms/step - loss: 0.4869 - accuracy: 0.7617 - val_loss: 0.5138 - val_accuracy: 0.7370\n",
      "Epoch 7/25\n",
      "250/250 [==============================] - 14s 54ms/step - loss: 0.4609 - accuracy: 0.7779 - val_loss: 0.5176 - val_accuracy: 0.7600\n",
      "Epoch 8/25\n",
      "250/250 [==============================] - 13s 53ms/step - loss: 0.4565 - accuracy: 0.7832 - val_loss: 0.5334 - val_accuracy: 0.7440\n",
      "Epoch 9/25\n",
      "250/250 [==============================] - 13s 53ms/step - loss: 0.4330 - accuracy: 0.8000 - val_loss: 0.4426 - val_accuracy: 0.7905\n",
      "Epoch 10/25\n",
      "250/250 [==============================] - 13s 53ms/step - loss: 0.4165 - accuracy: 0.8054 - val_loss: 0.4520 - val_accuracy: 0.7955\n",
      "Epoch 11/25\n",
      "250/250 [==============================] - 14s 54ms/step - loss: 0.4099 - accuracy: 0.8056 - val_loss: 0.5370 - val_accuracy: 0.7510\n",
      "Epoch 12/25\n",
      "250/250 [==============================] - 14s 54ms/step - loss: 0.3954 - accuracy: 0.8175 - val_loss: 0.5221 - val_accuracy: 0.7765\n",
      "Epoch 13/25\n",
      "250/250 [==============================] - 13s 54ms/step - loss: 0.3842 - accuracy: 0.8232 - val_loss: 0.4390 - val_accuracy: 0.8015\n",
      "Epoch 14/25\n",
      "250/250 [==============================] - 13s 54ms/step - loss: 0.3804 - accuracy: 0.8285 - val_loss: 0.4624 - val_accuracy: 0.7970\n",
      "Epoch 15/25\n",
      "250/250 [==============================] - 13s 54ms/step - loss: 0.3643 - accuracy: 0.8371 - val_loss: 0.4507 - val_accuracy: 0.8010\n",
      "Epoch 16/25\n",
      "250/250 [==============================] - 13s 54ms/step - loss: 0.3511 - accuracy: 0.8389 - val_loss: 0.4490 - val_accuracy: 0.8035\n",
      "Epoch 17/25\n",
      "250/250 [==============================] - 13s 54ms/step - loss: 0.3461 - accuracy: 0.8414 - val_loss: 0.4345 - val_accuracy: 0.8155\n",
      "Epoch 18/25\n",
      "250/250 [==============================] - 13s 54ms/step - loss: 0.3248 - accuracy: 0.8619 - val_loss: 0.4649 - val_accuracy: 0.7990\n",
      "Epoch 19/25\n",
      "250/250 [==============================] - 14s 54ms/step - loss: 0.3165 - accuracy: 0.8612 - val_loss: 0.4402 - val_accuracy: 0.8135\n",
      "Epoch 20/25\n",
      "250/250 [==============================] - 13s 54ms/step - loss: 0.3043 - accuracy: 0.8681 - val_loss: 0.4356 - val_accuracy: 0.8150\n",
      "Epoch 21/25\n",
      "250/250 [==============================] - 13s 54ms/step - loss: 0.2900 - accuracy: 0.8786 - val_loss: 0.4962 - val_accuracy: 0.8030\n",
      "Epoch 22/25\n",
      "250/250 [==============================] - 13s 54ms/step - loss: 0.2825 - accuracy: 0.8786 - val_loss: 0.5380 - val_accuracy: 0.7910\n",
      "Epoch 23/25\n",
      "250/250 [==============================] - 13s 54ms/step - loss: 0.2825 - accuracy: 0.8792 - val_loss: 0.4816 - val_accuracy: 0.8125\n",
      "Epoch 24/25\n",
      "250/250 [==============================] - 13s 54ms/step - loss: 0.2683 - accuracy: 0.8873 - val_loss: 0.4755 - val_accuracy: 0.8180\n",
      "Epoch 25/25\n",
      "250/250 [==============================] - 14s 54ms/step - loss: 0.2643 - accuracy: 0.8867 - val_loss: 0.5277 - val_accuracy: 0.7945\n"
     ]
    },
    {
     "data": {
      "text/plain": [
       "<tensorflow.python.keras.callbacks.History at 0x1fb09e86248>"
      ]
     },
     "execution_count": 5,
     "metadata": {},
     "output_type": "execute_result"
    }
   ],
   "source": [
    "# Part 3 - Training the CNN\n",
    "\n",
    "# Compiling the CNN\n",
    "cnn.compile(optimizer = 'adam', loss = 'binary_crossentropy', metrics = ['accuracy'])\n",
    "\n",
    "# Training the CNN on the Training set and evaluating it on the Test set\n",
    "cnn.fit(x = training_set, validation_data = test_set, epochs = 25)"
   ]
  },
  {
   "cell_type": "code",
   "execution_count": 7,
   "metadata": {},
   "outputs": [],
   "source": [
    "# save it as a h5 file\n",
    "\n",
    "\n",
    "from tensorflow.keras.models import load_model\n",
    "\n",
    "cnn.save('model_rcat_dog.h5')"
   ]
  },
  {
   "cell_type": "code",
   "execution_count": 5,
   "metadata": {},
   "outputs": [],
   "source": [
    "from tensorflow.keras.models import load_model\n",
    "model = load_model('model_rcat_dog.h5')"
   ]
  },
  {
   "cell_type": "code",
   "execution_count": 53,
   "metadata": {},
   "outputs": [],
   "source": [
    "# Part 4 - Making a single prediction\n",
    "\n",
    "import numpy as np\n",
    "from tensorflow.keras.preprocessing import image\n",
    "test_image = image.load_img('Datasets/test/dogs/dog.4005.jpg', target_size = (64, 64))\n",
    "test_image = image.img_to_array(test_image)\n",
    "test_image=test_image/255\n",
    "test_image = np.expand_dims(test_image, axis = 0)\n",
    "result = cnn.predict(test_image)"
   ]
  },
  {
   "cell_type": "code",
   "execution_count": 55,
   "metadata": {},
   "outputs": [
    {
     "data": {
      "text/plain": [
       "array([[0.90586513]], dtype=float32)"
      ]
     },
     "execution_count": 55,
     "metadata": {},
     "output_type": "execute_result"
    }
   ],
   "source": [
    "result"
   ]
  },
  {
   "cell_type": "code",
   "execution_count": 57,
   "metadata": {},
   "outputs": [
    {
     "name": "stdout",
     "output_type": "stream",
     "text": [
      "The image classified is dog\n"
     ]
    }
   ],
   "source": [
    "if result[0]<=0.5:\n",
    "    print(\"The image classified is cat\")\n",
    "else:\n",
    "    print(\"The image classified is dog\")"
   ]
  },
  {
   "cell_type": "code",
   "execution_count": 58,
   "metadata": {},
   "outputs": [
    {
     "name": "stdout",
     "output_type": "stream",
     "text": [
      "Enter Email :krishnaik06@gmail.com\n",
      "Enter Tensordash Password :········\n"
     ]
    }
   ],
   "source": [
    "from tensordash.tensordash import Tensordash\n",
    "histories = Tensordash(ModelName = 'amplemodel.h5')"
   ]
  },
  {
   "cell_type": "code",
   "execution_count": 59,
   "metadata": {},
   "outputs": [
    {
     "name": "stdout",
     "output_type": "stream",
     "text": [
      "Enter Tensordash Password :········\n"
     ]
    }
   ],
   "source": [
    "from tensordash.tensordash import Tensordash\n",
    "histories = Tensordash(\n",
    "    ModelName = 'amplemodel.h5',\n",
    "    email = 'krishnaik06@gmail.com')"
   ]
  },
  {
   "cell_type": "code",
   "execution_count": null,
   "metadata": {},
   "outputs": [],
   "source": [
    "try:\n",
    "    model.fit(\n",
    "    X_train, \n",
    "    y_train, \n",
    "    epochs = epochs, \n",
    "    validation_data = validation_data, \n",
    "    batch_size = batch_size, \n",
    "    callbacks = [histories])\n",
    "\n",
    "except:\n",
    "    histories.sendCrash()"
   ]
  }
 ],
 "metadata": {
  "kernelspec": {
   "display_name": "Python 3",
   "language": "python",
   "name": "python3"
  },
  "language_info": {
   "codemirror_mode": {
    "name": "ipython",
    "version": 3
   },
   "file_extension": ".py",
   "mimetype": "text/x-python",
   "name": "python",
   "nbconvert_exporter": "python",
   "pygments_lexer": "ipython3",
   "version": "3.7.4"
  }
 },
 "nbformat": 4,
 "nbformat_minor": 4
}
